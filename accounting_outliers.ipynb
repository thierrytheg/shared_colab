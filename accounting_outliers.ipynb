{
  "nbformat": 4,
  "nbformat_minor": 0,
  "metadata": {
    "colab": {
      "name": "accounting_outliers.ipynb",
      "provenance": [],
      "collapsed_sections": [],
      "toc_visible": true,
      "include_colab_link": true
    },
    "kernelspec": {
      "display_name": "Python 3",
      "name": "python3"
    },
    "widgets": {
      "application/vnd.jupyter.widget-state+json": {
        "d9b20decef9544d7979d7a2fc2751a7e": {
          "model_module": "@jupyter-widgets/controls",
          "model_name": "VBoxModel",
          "state": {
            "_view_name": "VBoxView",
            "_dom_classes": [
              "widget-interact"
            ],
            "_model_name": "VBoxModel",
            "_view_module": "@jupyter-widgets/controls",
            "_model_module_version": "1.5.0",
            "_view_count": null,
            "_view_module_version": "1.5.0",
            "box_style": "",
            "layout": "IPY_MODEL_3d7133cf927742e2813d36916e060a18",
            "_model_module": "@jupyter-widgets/controls",
            "children": [
              "IPY_MODEL_afd1c5677901464689e76982f6c1478b",
              "IPY_MODEL_0c5dbd32a9c94d34b7220430b8a4c52c"
            ]
          }
        },
        "3d7133cf927742e2813d36916e060a18": {
          "model_module": "@jupyter-widgets/base",
          "model_name": "LayoutModel",
          "state": {
            "_view_name": "LayoutView",
            "grid_template_rows": null,
            "right": null,
            "justify_content": null,
            "_view_module": "@jupyter-widgets/base",
            "overflow": null,
            "_model_module_version": "1.2.0",
            "_view_count": null,
            "flex_flow": null,
            "width": null,
            "min_width": null,
            "border": null,
            "align_items": null,
            "bottom": null,
            "_model_module": "@jupyter-widgets/base",
            "top": null,
            "grid_column": null,
            "overflow_y": null,
            "overflow_x": null,
            "grid_auto_flow": null,
            "grid_area": null,
            "grid_template_columns": null,
            "flex": null,
            "_model_name": "LayoutModel",
            "justify_items": null,
            "grid_row": null,
            "max_height": null,
            "align_content": null,
            "visibility": null,
            "align_self": null,
            "height": null,
            "min_height": null,
            "padding": null,
            "grid_auto_rows": null,
            "grid_gap": null,
            "max_width": null,
            "order": null,
            "_view_module_version": "1.2.0",
            "grid_template_areas": null,
            "object_position": null,
            "object_fit": null,
            "grid_auto_columns": null,
            "margin": null,
            "display": null,
            "left": null
          }
        },
        "afd1c5677901464689e76982f6c1478b": {
          "model_module": "@jupyter-widgets/controls",
          "model_name": "SelectMultipleModel",
          "state": {
            "_options_labels": [
              "10050000",
              "10130000",
              "10180000",
              "10220000",
              "10250000",
              "10400000",
              "10410000",
              "10430000",
              "10440000",
              "10460000",
              "10470000",
              "10480000",
              "10500000",
              "12060000",
              "12210000",
              "12270000",
              "12320000",
              "12410000",
              "12460000",
              "12510000",
              "12560000",
              "12620000",
              "12670000",
              "12710000",
              "12770000",
              "12810000",
              "12860000",
              "12890000",
              "13070000",
              "13120000",
              "13200000",
              "13300000",
              "13360000",
              "13370000",
              "13380000",
              "13420000",
              "13430000",
              "13450000",
              "13460000",
              "13520000",
              "13600000",
              "13610000",
              "20040000",
              "20050000",
              "20090000",
              "20110000",
              "20320000",
              "20350000",
              "20400000",
              "20450000",
              "20570000",
              "20610000",
              "20670000",
              "21120000",
              "21220000",
              "21230000",
              "21260000",
              "21270000",
              "21280000",
              "21290000",
              "21320000",
              "21330000",
              "21380000",
              "21390000",
              "21440000",
              "21450000",
              "21550000",
              "21560000",
              "40050000",
              "40100000",
              "40150000",
              "40200000",
              "40250000",
              "40300000",
              "40500000",
              "40510000",
              "40520000",
              "40540000",
              "40550000",
              "40560000",
              "40590000",
              "41100000",
              "41150000",
              "50050000",
              "50060000",
              "50070000",
              "50140000",
              "50150000",
              "50160000",
              "50170000",
              "50190000",
              "50200000",
              "50210000",
              "50220000",
              "50230000",
              "50240000",
              "50250000",
              "50260000",
              "50280000",
              "50300000",
              "50310000",
              "50320000",
              "50330000",
              "50340000",
              "50400000",
              "50420000",
              "50430000",
              "50450000",
              "50460000",
              "50470000",
              "50480000",
              "50490000",
              "50500000",
              "50510000",
              "50520000",
              "50530000",
              "50540000",
              "50550000",
              "50560000",
              "50580000",
              "50590000",
              "50600000",
              "50610000",
              "50640000",
              "50650000",
              "50660000",
              "50670000",
              "50690000",
              "50700000",
              "50710000",
              "50720000",
              "50730000",
              "50740000",
              "50750000",
              "50760000",
              "50770000",
              "50780000",
              "50790000",
              "50800000",
              "50840000",
              "50850000",
              "50860000",
              "50870000",
              "50890000",
              "50900000",
              "50930000",
              "50940000",
              "50990000",
              "51000000",
              "51010000",
              "51050000",
              "51060000",
              "51070000",
              "51080000",
              "51100000",
              "51110000",
              "51120000",
              "51130000",
              "51140000",
              "51150000",
              "51160000",
              "51170000",
              "51190000",
              "51200000",
              "51210000",
              "51220000",
              "51250000",
              "51260000",
              "51270000",
              "51280000",
              "51290000",
              "51300000",
              "51320000",
              "51330000",
              "51340000",
              "51350000",
              "51360000",
              "51370000",
              "51380000",
              "51390000",
              "51420000",
              "51430000",
              "51490000",
              "51500000",
              "51580000",
              "51650000",
              "51660000",
              "51680000",
              "51700000"
            ],
            "_view_name": "SelectMultipleView",
            "style": "IPY_MODEL_48e65bf584144020a045821b77f1a16f",
            "rows": 5,
            "_dom_classes": [],
            "description": "GL Account",
            "_model_name": "SelectMultipleModel",
            "index": [
              182
            ],
            "_view_module": "@jupyter-widgets/controls",
            "_model_module_version": "1.5.0",
            "_view_count": null,
            "disabled": false,
            "_view_module_version": "1.5.0",
            "description_tooltip": null,
            "_model_module": "@jupyter-widgets/controls",
            "layout": "IPY_MODEL_e81e21afa3b149fea7fc681faaf234a2"
          }
        },
        "0c5dbd32a9c94d34b7220430b8a4c52c": {
          "model_module": "@jupyter-widgets/output",
          "model_name": "OutputModel",
          "state": {
            "_view_name": "OutputView",
            "msg_id": "",
            "_dom_classes": [],
            "_model_name": "OutputModel",
            "outputs": [
              {
                "output_type": "stream",
                "metadata": {
                  "tags": []
                },
                "text": "==============\nOutliers detected for this account: 2\nFor the account(s) selected,\nTransactions with a smaller than 1,226.35 and greater than 2,385.39, require special attention.\n",
                "stream": "stdout"
              },
              {
                "output_type": "display_data",
                "metadata": {
                  "tags": []
                },
                "text/plain": "alt.Chart(...)",
                "text/html": "\n<div id=\"altair-viz-a15af9fee49c4d31b7ab127dd34a3f1b\"></div>\n<script type=\"text/javascript\">\n  (function(spec, embedOpt){\n    let outputDiv = document.currentScript.previousElementSibling;\n    if (outputDiv.id !== \"altair-viz-a15af9fee49c4d31b7ab127dd34a3f1b\") {\n      outputDiv = document.getElementById(\"altair-viz-a15af9fee49c4d31b7ab127dd34a3f1b\");\n    }\n    const paths = {\n      \"vega\": \"https://cdn.jsdelivr.net/npm//vega@5?noext\",\n      \"vega-lib\": \"https://cdn.jsdelivr.net/npm//vega-lib?noext\",\n      \"vega-lite\": \"https://cdn.jsdelivr.net/npm//vega-lite@4.8.1?noext\",\n      \"vega-embed\": \"https://cdn.jsdelivr.net/npm//vega-embed@6?noext\",\n    };\n\n    function loadScript(lib) {\n      return new Promise(function(resolve, reject) {\n        var s = document.createElement('script');\n        s.src = paths[lib];\n        s.async = true;\n        s.onload = () => resolve(paths[lib]);\n        s.onerror = () => reject(`Error loading script: ${paths[lib]}`);\n        document.getElementsByTagName(\"head\")[0].appendChild(s);\n      });\n    }\n\n    function showError(err) {\n      outputDiv.innerHTML = `<div class=\"error\" style=\"color:red;\">${err}</div>`;\n      throw err;\n    }\n\n    function displayChart(vegaEmbed) {\n      vegaEmbed(outputDiv, spec, embedOpt)\n        .catch(err => showError(`Javascript Error: ${err.message}<br>This usually means there's a typo in your chart specification. See the javascript console for the full traceback.`));\n    }\n\n    if(typeof define === \"function\" && define.amd) {\n      requirejs.config({paths});\n      require([\"vega-embed\"], displayChart, err => showError(`Error loading script: ${err.message}`));\n    } else if (typeof vegaEmbed === \"function\") {\n      displayChart(vegaEmbed);\n    } else {\n      loadScript(\"vega\")\n        .then(() => loadScript(\"vega-lite\"))\n        .then(() => loadScript(\"vega-embed\"))\n        .catch(showError)\n        .then(() => displayChart(vegaEmbed));\n    }\n  })({\"config\": {\"view\": {\"continuousWidth\": 400, \"continuousHeight\": 300}}, \"data\": {\"name\": \"data-367e314f19def9b02a1c30bb0591cf7b\"}, \"mark\": \"boxplot\", \"encoding\": {\"y\": {\"type\": \"quantitative\", \"field\": \"Amount\"}}, \"height\": 500, \"width\": 300, \"$schema\": \"https://vega.github.io/schema/vega-lite/v4.8.1.json\", \"datasets\": {\"data-367e314f19def9b02a1c30bb0591cf7b\": [{\"lJEntId\": 48, \"lAcctId\": 51490000, \"dAmount\": 882.57, \"Account\": 51490000, \"Amount\": 882.57, \"Abs_Val\": 882.57, \"First_Digit\": \"8\"}, {\"lJEntId\": 394, \"lAcctId\": 51490000, \"dAmount\": 1570.13, \"Account\": 51490000, \"Amount\": 1570.13, \"Abs_Val\": 1570.13, \"First_Digit\": \"1\"}, {\"lJEntId\": 584, \"lAcctId\": 51490000, \"dAmount\": 3200.64, \"Account\": 51490000, \"Amount\": 3200.64, \"Abs_Val\": 3200.64, \"First_Digit\": \"3\"}]}}, {\"mode\": \"vega-lite\"});\n</script>"
              }
            ],
            "_view_module": "@jupyter-widgets/output",
            "_model_module_version": "1.0.0",
            "_view_count": null,
            "_view_module_version": "1.0.0",
            "layout": "IPY_MODEL_8160020bda6147dfa1a15ddb21dda22e",
            "_model_module": "@jupyter-widgets/output"
          }
        },
        "48e65bf584144020a045821b77f1a16f": {
          "model_module": "@jupyter-widgets/controls",
          "model_name": "DescriptionStyleModel",
          "state": {
            "_view_name": "StyleView",
            "_model_name": "DescriptionStyleModel",
            "description_width": "",
            "_view_module": "@jupyter-widgets/base",
            "_model_module_version": "1.5.0",
            "_view_count": null,
            "_view_module_version": "1.2.0",
            "_model_module": "@jupyter-widgets/controls"
          }
        },
        "e81e21afa3b149fea7fc681faaf234a2": {
          "model_module": "@jupyter-widgets/base",
          "model_name": "LayoutModel",
          "state": {
            "_view_name": "LayoutView",
            "grid_template_rows": null,
            "right": null,
            "justify_content": null,
            "_view_module": "@jupyter-widgets/base",
            "overflow": null,
            "_model_module_version": "1.2.0",
            "_view_count": null,
            "flex_flow": null,
            "width": null,
            "min_width": null,
            "border": null,
            "align_items": null,
            "bottom": null,
            "_model_module": "@jupyter-widgets/base",
            "top": null,
            "grid_column": null,
            "overflow_y": null,
            "overflow_x": null,
            "grid_auto_flow": null,
            "grid_area": null,
            "grid_template_columns": null,
            "flex": null,
            "_model_name": "LayoutModel",
            "justify_items": null,
            "grid_row": null,
            "max_height": null,
            "align_content": null,
            "visibility": null,
            "align_self": null,
            "height": null,
            "min_height": null,
            "padding": null,
            "grid_auto_rows": null,
            "grid_gap": null,
            "max_width": null,
            "order": null,
            "_view_module_version": "1.2.0",
            "grid_template_areas": null,
            "object_position": null,
            "object_fit": null,
            "grid_auto_columns": null,
            "margin": null,
            "display": null,
            "left": null
          }
        },
        "8160020bda6147dfa1a15ddb21dda22e": {
          "model_module": "@jupyter-widgets/base",
          "model_name": "LayoutModel",
          "state": {
            "_view_name": "LayoutView",
            "grid_template_rows": null,
            "right": null,
            "justify_content": null,
            "_view_module": "@jupyter-widgets/base",
            "overflow": null,
            "_model_module_version": "1.2.0",
            "_view_count": null,
            "flex_flow": null,
            "width": null,
            "min_width": null,
            "border": null,
            "align_items": null,
            "bottom": null,
            "_model_module": "@jupyter-widgets/base",
            "top": null,
            "grid_column": null,
            "overflow_y": null,
            "overflow_x": null,
            "grid_auto_flow": null,
            "grid_area": null,
            "grid_template_columns": null,
            "flex": null,
            "_model_name": "LayoutModel",
            "justify_items": null,
            "grid_row": null,
            "max_height": null,
            "align_content": null,
            "visibility": null,
            "align_self": null,
            "height": null,
            "min_height": null,
            "padding": null,
            "grid_auto_rows": null,
            "grid_gap": null,
            "max_width": null,
            "order": null,
            "_view_module_version": "1.2.0",
            "grid_template_areas": null,
            "object_position": null,
            "object_fit": null,
            "grid_auto_columns": null,
            "margin": null,
            "display": null,
            "left": null
          }
        }
      }
    }
  },
  "cells": [
    {
      "cell_type": "markdown",
      "metadata": {
        "id": "view-in-github",
        "colab_type": "text"
      },
      "source": [
        "<a href=\"https://colab.research.google.com/github/thierrytheg/shared_colab/blob/main/accounting_outliers.ipynb\" target=\"_parent\"><img src=\"https://colab.research.google.com/assets/colab-badge.svg\" alt=\"Open In Colab\"/></a>"
      ]
    },
    {
      "cell_type": "markdown",
      "metadata": {
        "id": "aCZBFzjClURz"
      },
      "source": [
        "# **Detect Outliers in your General Ledger**\n",
        "\n",
        "This tool allows accounting professionals to vizualize their General Ledger in an intuitive format while getting instantaneous feedback on which transactions have been flagged as anomalies and require further investigation.\n",
        "\n",
        "---\n",
        "\n",
        "The is a free, dynamic and fully customizable tool that is the answer to a lack of free products available for helping accounting professionals implement and enforce internal controls procedures.\n",
        "\n",
        "I hope you find it useful as much as I have and I look forward to your feedback and suggestions for improvement.\n",
        "\n",
        "\n",
        "\n"
      ]
    },
    {
      "cell_type": "markdown",
      "metadata": {
        "id": "eW8mwvbuHIKS"
      },
      "source": [
        "#How to start\r\n",
        "\r\n",
        "Click Run All under the Rutime tab and press Ctrl+F9.\r\n",
        "The script should not take more than 1 minute to run from start to finish."
      ]
    },
    {
      "cell_type": "markdown",
      "metadata": {
        "id": "LXrmKAbctcaM"
      },
      "source": [
        "![run_all.png](data:image/png;base64,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)"
      ]
    },
    {
      "cell_type": "markdown",
      "metadata": {
        "id": "m689noMCBi_s"
      },
      "source": [
        "**How to create your own reports**\r\n",
        "\r\n",
        "Once you have become familiarized with the notebook, feel free to add your own dataset and edit the code to suit your needs. To do so, please follow the instructions below.\r\n",
        "\r\n",
        "If you are using any of the software listed below, follow the link to learn how to collect the data you will need to create your own report\r\n",
        "\r\n",
        "*   **Sage**\r\n",
        "The information you will need is located in table *tJEntAct*. \r\n",
        "\r\n",
        "*   **Quickbooks**\r\n",
        "The data dictionary is available [here](https://qbar.intuit.com/resources.html). The information you will need is located in the *transaction* table. \r\n",
        "\r\n",
        "*   **Xero**\r\n",
        "does not allow direct access to its database, but you can access the data you need through the [API](https://developer.xero.com/documentation/api/journals). \r\n",
        "\r\n",
        "\r\n",
        "Once you have created your csv or Excel file, you must:\r\n",
        "\r\n",
        "1.   Delete any existing csv or Excel files in the following folder\r\n",
        "  /accounting_outliers/uploads/\r\n",
        "2.   Upload your file\r\n",
        "3.   Run the notebook starting at step 2 by clicking the play  button.<table class=\"tfo-notebook-buttons\" align=\"left\">\r\n",
        "  <td>\r\n",
        "\r\n",
        "![play.png](data:image/png;base64,iVBORw0KGgoAAAANSUhEUgAAACwAAAAlCAYAAAA5iwvJAAAAAXNSR0IArs4c6QAAAARnQU1BAACxjwv8YQUAAAAJcEhZcwAAJugAACboARZ4wFsAAAQ0SURBVFhH7ZfHSyxbEMbvf2XOARMGFEVRMWzMYkBxoQsjYsCFqAtBXImKoqK4EMSAoIIgKOasmHOO1L1fQTX9+vbldU948LgOfPTM9OlzflPnq6ozP+jX6/Pzk15eXv4X+ga2t76B7a2/F/j19VXR29sbSz7rjbdUVgPrAWol9/SeNyurgAXm+fmZLi4u6PDwkLa2tmh1dZXW19dpd3eXTk5O6P7+3mYRtxj4/f2dQQ8ODmhiYoLa29upqqqKCgoKKC0tjXJycqi0tJSampqov7+fFhcX6fr62upomwbGYh8fH3Rzc0MzMzMMBMCIiAjy9/cnNzc3cnBwIGdnZ/L29qbg4GCKi4uj4uJi6unpob29PWVn9Ob/N5kCxkKILCI1OjrK0QwKCmJIyMPDg7y8vBgUV09PT3J3dydXV1d+n5CQwDuxs7PD81gSaVPAiMrj4yNbIDc3l3x8fBgIgAIpwFoBGIqNjaWuri46OzuzKMqGgcV7m5ub7NXAwMB/wGrB9MDl+6ysLJqamuJ5zUbZMDB8e3d3RyMjI5SYmMgWUEMh2qGhoRQfH882UdtDLUD7+flRa2srVxazUTYELEmyv79PDQ0NnEgAVkP4+vpSZmYm9fb2UllZGQUEBOhGGp9dXFzY/wsLC8r82jX/JEPAYoelpSUqLCzkaAJGIBBNXHEPtXdtbY3q6+spOjr6t7EQrBQTE0N9fX309PRke2BkNK6zs7OUnJz823YLMKKGRoEXKkF3dzfl5+ezVTBenpEdaWlpoYeHB1O2MAyMSExOTlJkZCRvqcCqgQGHbofX19cXw4yPj1N2drYCKs+gVtfU1HBe2A0YmR0VFWUIGHNeXV3R8PAwpaen830BRqQdHR2ptrZWadt66+rJMDDa8NzcHKWmpjKgnodhiePjYwbe3t6mjo4OHo8E1FoCXbGtrc0+lpAJ1UknkGpg3EMl2djYoLq6OraPGlSkTjo0IpsnnZQ1VABkv7RjAZAkglcHBwepoqKCx+B7LSw+w1J5eXk0Pz+vzK9d808yBAyhcdze3tLQ0BA3B3XjwBVRDw8Pp6SkJAoJCeEoamEh/AiMbW5uptPTU6UCGZVhYEQYkUBrrq6u5gjqtWZA6kVW7kHSmpEXZvwLGQaGAAzP4VhZUlKiHCcFToC0oJAkKuo4vHt+fm4aFjINjC1EKZqenqbKykpOLBwfcf5V2wBXQOKek5MTf5eRkcGt++joiOcx412RKWBIoFGOlpeXqbOzk6sDDuk4wSHicoCHV8PCwiglJYVPeGNjY4pvLYkuZBpYJAviML+yskIDAwPU2NhIRUVF/A8E5+Xy8nI+sOP8jHKHncEPtiSyIouBISws4KggOJRjuwGH/3poIpeXl7wb1oKKrAKGBATgItlytWwBC1kNrJbAa6U31lLZFPi/0DewvfUNbF+90E+ZDF8HBde+dwAAAABJRU5ErkJggg==)\r\n",
        "  </td>\r\n",
        "\r\n",
        "</table>\r\n"
      ]
    },
    {
      "cell_type": "markdown",
      "metadata": {
        "id": "kY95W_7XM1hA"
      },
      "source": [
        "## Step 1: Environment Setup\r\n",
        "\r\n",
        "In this section, we clone the github repository that contains the sample dataset and install the dependencies.\r\n",
        "\r\n"
      ]
    },
    {
      "cell_type": "markdown",
      "metadata": {
        "id": "q23TgRTqpNU5"
      },
      "source": [
        "###Clone Github Repository"
      ]
    },
    {
      "cell_type": "code",
      "metadata": {
        "colab": {
          "base_uri": "https://localhost:8080/"
        },
        "id": "hbqqKlHPF36T",
        "outputId": "7c74bc5e-018e-4380-ae14-7897cac34bdd"
      },
      "source": [
        "!git clone https://github.com/thierrytheg/accounting_outliers.git"
      ],
      "execution_count": 25,
      "outputs": [
        {
          "output_type": "stream",
          "text": [
            "Cloning into 'accounting_outliers'...\n",
            "remote: Enumerating objects: 66, done.\u001b[K\n",
            "remote: Counting objects: 100% (66/66), done.\u001b[K\n",
            "remote: Compressing objects: 100% (61/61), done.\u001b[K\n",
            "remote: Total 66 (delta 9), reused 0 (delta 0), pack-reused 0\u001b[K\n",
            "Unpacking objects: 100% (66/66), done.\n"
          ],
          "name": "stdout"
        }
      ]
    },
    {
      "cell_type": "markdown",
      "metadata": {
        "id": "p3qqMhwTpU1D"
      },
      "source": [
        "###Install Dependencies"
      ]
    },
    {
      "cell_type": "code",
      "metadata": {
        "colab": {
          "base_uri": "https://localhost:8080/"
        },
        "id": "iyRkUEC6KpVY",
        "outputId": "eb6693f4-be2b-4780-e221-9643b679a40b"
      },
      "source": [
        "!pip install flask-ngrok==0.0.25\r\n",
        "!pip install pandas==1.1.5\r\n",
        "!pip install openpyxl==2.5.9\r\n",
        "!pip install matplotlib.pyplot==3.2.2\r\n",
        "!pip install numpy==1.19.5\r\n",
        "!pip install ipywidgets==7.6.3"
      ],
      "execution_count": 26,
      "outputs": [
        {
          "output_type": "stream",
          "text": [
            "Requirement already satisfied: flask-ngrok==0.0.25 in /usr/local/lib/python3.6/dist-packages (0.0.25)\n",
            "Requirement already satisfied: requests in /usr/local/lib/python3.6/dist-packages (from flask-ngrok==0.0.25) (2.23.0)\n",
            "Requirement already satisfied: Flask>=0.8 in /usr/local/lib/python3.6/dist-packages (from flask-ngrok==0.0.25) (1.1.2)\n",
            "Requirement already satisfied: certifi>=2017.4.17 in /usr/local/lib/python3.6/dist-packages (from requests->flask-ngrok==0.0.25) (2020.12.5)\n",
            "Requirement already satisfied: chardet<4,>=3.0.2 in /usr/local/lib/python3.6/dist-packages (from requests->flask-ngrok==0.0.25) (3.0.4)\n",
            "Requirement already satisfied: urllib3!=1.25.0,!=1.25.1,<1.26,>=1.21.1 in /usr/local/lib/python3.6/dist-packages (from requests->flask-ngrok==0.0.25) (1.24.3)\n",
            "Requirement already satisfied: idna<3,>=2.5 in /usr/local/lib/python3.6/dist-packages (from requests->flask-ngrok==0.0.25) (2.10)\n",
            "Requirement already satisfied: click>=5.1 in /usr/local/lib/python3.6/dist-packages (from Flask>=0.8->flask-ngrok==0.0.25) (7.1.2)\n",
            "Requirement already satisfied: Jinja2>=2.10.1 in /usr/local/lib/python3.6/dist-packages (from Flask>=0.8->flask-ngrok==0.0.25) (2.11.3)\n",
            "Requirement already satisfied: itsdangerous>=0.24 in /usr/local/lib/python3.6/dist-packages (from Flask>=0.8->flask-ngrok==0.0.25) (1.1.0)\n",
            "Requirement already satisfied: Werkzeug>=0.15 in /usr/local/lib/python3.6/dist-packages (from Flask>=0.8->flask-ngrok==0.0.25) (1.0.1)\n",
            "Requirement already satisfied: MarkupSafe>=0.23 in /usr/local/lib/python3.6/dist-packages (from Jinja2>=2.10.1->Flask>=0.8->flask-ngrok==0.0.25) (1.1.1)\n",
            "Requirement already satisfied: pandas==1.1.5 in /usr/local/lib/python3.6/dist-packages (1.1.5)\n",
            "Requirement already satisfied: python-dateutil>=2.7.3 in /usr/local/lib/python3.6/dist-packages (from pandas==1.1.5) (2.8.1)\n",
            "Requirement already satisfied: pytz>=2017.2 in /usr/local/lib/python3.6/dist-packages (from pandas==1.1.5) (2018.9)\n",
            "Requirement already satisfied: numpy>=1.15.4 in /usr/local/lib/python3.6/dist-packages (from pandas==1.1.5) (1.19.5)\n",
            "Requirement already satisfied: six>=1.5 in /usr/local/lib/python3.6/dist-packages (from python-dateutil>=2.7.3->pandas==1.1.5) (1.15.0)\n",
            "Requirement already satisfied: openpyxl==2.5.9 in /usr/local/lib/python3.6/dist-packages (2.5.9)\n",
            "Requirement already satisfied: jdcal in /usr/local/lib/python3.6/dist-packages (from openpyxl==2.5.9) (1.4.1)\n",
            "Requirement already satisfied: et-xmlfile in /usr/local/lib/python3.6/dist-packages (from openpyxl==2.5.9) (1.0.1)\n",
            "\u001b[31mERROR: Could not find a version that satisfies the requirement matplotlib.pyplot==3.2.2 (from versions: none)\u001b[0m\n",
            "\u001b[31mERROR: No matching distribution found for matplotlib.pyplot==3.2.2\u001b[0m\n",
            "Requirement already satisfied: numpy==1.19.5 in /usr/local/lib/python3.6/dist-packages (1.19.5)\n",
            "Requirement already satisfied: ipywidgets==7.6.3 in /usr/local/lib/python3.6/dist-packages (7.6.3)\n",
            "Requirement already satisfied: widgetsnbextension~=3.5.0 in /usr/local/lib/python3.6/dist-packages (from ipywidgets==7.6.3) (3.5.1)\n",
            "Requirement already satisfied: ipython>=4.0.0; python_version >= \"3.3\" in /usr/local/lib/python3.6/dist-packages (from ipywidgets==7.6.3) (5.5.0)\n",
            "Requirement already satisfied: traitlets>=4.3.1 in /usr/local/lib/python3.6/dist-packages (from ipywidgets==7.6.3) (4.3.3)\n",
            "Requirement already satisfied: nbformat>=4.2.0 in /usr/local/lib/python3.6/dist-packages (from ipywidgets==7.6.3) (5.1.2)\n",
            "Requirement already satisfied: ipykernel>=4.5.1 in /usr/local/lib/python3.6/dist-packages (from ipywidgets==7.6.3) (4.10.1)\n",
            "Requirement already satisfied: jupyterlab-widgets>=1.0.0; python_version >= \"3.6\" in /usr/local/lib/python3.6/dist-packages (from ipywidgets==7.6.3) (1.0.0)\n",
            "Requirement already satisfied: notebook>=4.4.1 in /usr/local/lib/python3.6/dist-packages (from widgetsnbextension~=3.5.0->ipywidgets==7.6.3) (5.3.1)\n",
            "Requirement already satisfied: pygments in /usr/local/lib/python3.6/dist-packages (from ipython>=4.0.0; python_version >= \"3.3\"->ipywidgets==7.6.3) (2.6.1)\n",
            "Requirement already satisfied: simplegeneric>0.8 in /usr/local/lib/python3.6/dist-packages (from ipython>=4.0.0; python_version >= \"3.3\"->ipywidgets==7.6.3) (0.8.1)\n",
            "Requirement already satisfied: pickleshare in /usr/local/lib/python3.6/dist-packages (from ipython>=4.0.0; python_version >= \"3.3\"->ipywidgets==7.6.3) (0.7.5)\n",
            "Requirement already satisfied: pexpect; sys_platform != \"win32\" in /usr/local/lib/python3.6/dist-packages (from ipython>=4.0.0; python_version >= \"3.3\"->ipywidgets==7.6.3) (4.8.0)\n",
            "Requirement already satisfied: prompt-toolkit<2.0.0,>=1.0.4 in /usr/local/lib/python3.6/dist-packages (from ipython>=4.0.0; python_version >= \"3.3\"->ipywidgets==7.6.3) (1.0.18)\n",
            "Requirement already satisfied: decorator in /usr/local/lib/python3.6/dist-packages (from ipython>=4.0.0; python_version >= \"3.3\"->ipywidgets==7.6.3) (4.4.2)\n",
            "Requirement already satisfied: setuptools>=18.5 in /usr/local/lib/python3.6/dist-packages (from ipython>=4.0.0; python_version >= \"3.3\"->ipywidgets==7.6.3) (53.0.0)\n",
            "Requirement already satisfied: six in /usr/local/lib/python3.6/dist-packages (from traitlets>=4.3.1->ipywidgets==7.6.3) (1.15.0)\n",
            "Requirement already satisfied: ipython-genutils in /usr/local/lib/python3.6/dist-packages (from traitlets>=4.3.1->ipywidgets==7.6.3) (0.2.0)\n",
            "Requirement already satisfied: jsonschema!=2.5.0,>=2.4 in /usr/local/lib/python3.6/dist-packages (from nbformat>=4.2.0->ipywidgets==7.6.3) (2.6.0)\n",
            "Requirement already satisfied: jupyter-core in /usr/local/lib/python3.6/dist-packages (from nbformat>=4.2.0->ipywidgets==7.6.3) (4.7.1)\n",
            "Requirement already satisfied: jupyter-client in /usr/local/lib/python3.6/dist-packages (from ipykernel>=4.5.1->ipywidgets==7.6.3) (5.3.5)\n",
            "Requirement already satisfied: tornado>=4.0 in /usr/local/lib/python3.6/dist-packages (from ipykernel>=4.5.1->ipywidgets==7.6.3) (5.1.1)\n",
            "Requirement already satisfied: nbconvert in /usr/local/lib/python3.6/dist-packages (from notebook>=4.4.1->widgetsnbextension~=3.5.0->ipywidgets==7.6.3) (5.6.1)\n",
            "Requirement already satisfied: terminado>=0.8.1 in /usr/local/lib/python3.6/dist-packages (from notebook>=4.4.1->widgetsnbextension~=3.5.0->ipywidgets==7.6.3) (0.9.2)\n",
            "Requirement already satisfied: Send2Trash in /usr/local/lib/python3.6/dist-packages (from notebook>=4.4.1->widgetsnbextension~=3.5.0->ipywidgets==7.6.3) (1.5.0)\n",
            "Requirement already satisfied: jinja2 in /usr/local/lib/python3.6/dist-packages (from notebook>=4.4.1->widgetsnbextension~=3.5.0->ipywidgets==7.6.3) (2.11.3)\n",
            "Requirement already satisfied: ptyprocess>=0.5 in /usr/local/lib/python3.6/dist-packages (from pexpect; sys_platform != \"win32\"->ipython>=4.0.0; python_version >= \"3.3\"->ipywidgets==7.6.3) (0.7.0)\n",
            "Requirement already satisfied: wcwidth in /usr/local/lib/python3.6/dist-packages (from prompt-toolkit<2.0.0,>=1.0.4->ipython>=4.0.0; python_version >= \"3.3\"->ipywidgets==7.6.3) (0.2.5)\n",
            "Requirement already satisfied: pyzmq>=13 in /usr/local/lib/python3.6/dist-packages (from jupyter-client->ipykernel>=4.5.1->ipywidgets==7.6.3) (22.0.2)\n",
            "Requirement already satisfied: python-dateutil>=2.1 in /usr/local/lib/python3.6/dist-packages (from jupyter-client->ipykernel>=4.5.1->ipywidgets==7.6.3) (2.8.1)\n",
            "Requirement already satisfied: defusedxml in /usr/local/lib/python3.6/dist-packages (from nbconvert->notebook>=4.4.1->widgetsnbextension~=3.5.0->ipywidgets==7.6.3) (0.6.0)\n",
            "Requirement already satisfied: entrypoints>=0.2.2 in /usr/local/lib/python3.6/dist-packages (from nbconvert->notebook>=4.4.1->widgetsnbextension~=3.5.0->ipywidgets==7.6.3) (0.3)\n",
            "Requirement already satisfied: pandocfilters>=1.4.1 in /usr/local/lib/python3.6/dist-packages (from nbconvert->notebook>=4.4.1->widgetsnbextension~=3.5.0->ipywidgets==7.6.3) (1.4.3)\n",
            "Requirement already satisfied: testpath in /usr/local/lib/python3.6/dist-packages (from nbconvert->notebook>=4.4.1->widgetsnbextension~=3.5.0->ipywidgets==7.6.3) (0.4.4)\n",
            "Requirement already satisfied: mistune<2,>=0.8.1 in /usr/local/lib/python3.6/dist-packages (from nbconvert->notebook>=4.4.1->widgetsnbextension~=3.5.0->ipywidgets==7.6.3) (0.8.4)\n",
            "Requirement already satisfied: bleach in /usr/local/lib/python3.6/dist-packages (from nbconvert->notebook>=4.4.1->widgetsnbextension~=3.5.0->ipywidgets==7.6.3) (3.3.0)\n",
            "Requirement already satisfied: MarkupSafe>=0.23 in /usr/local/lib/python3.6/dist-packages (from jinja2->notebook>=4.4.1->widgetsnbextension~=3.5.0->ipywidgets==7.6.3) (1.1.1)\n",
            "Requirement already satisfied: webencodings in /usr/local/lib/python3.6/dist-packages (from bleach->nbconvert->notebook>=4.4.1->widgetsnbextension~=3.5.0->ipywidgets==7.6.3) (0.5.1)\n",
            "Requirement already satisfied: packaging in /usr/local/lib/python3.6/dist-packages (from bleach->nbconvert->notebook>=4.4.1->widgetsnbextension~=3.5.0->ipywidgets==7.6.3) (20.9)\n",
            "Requirement already satisfied: pyparsing>=2.0.2 in /usr/local/lib/python3.6/dist-packages (from packaging->bleach->nbconvert->notebook>=4.4.1->widgetsnbextension~=3.5.0->ipywidgets==7.6.3) (2.4.7)\n"
          ],
          "name": "stdout"
        }
      ]
    },
    {
      "cell_type": "markdown",
      "metadata": {
        "id": "18i2rTA9p5Ub"
      },
      "source": [
        "##Step 2: Dataset\r\n"
      ]
    },
    {
      "cell_type": "markdown",
      "metadata": {
        "id": "-1_hRVvwrJGW"
      },
      "source": [
        "### Ensure dataset is in the correct folder and has valid format"
      ]
    },
    {
      "cell_type": "code",
      "metadata": {
        "colab": {
          "base_uri": "https://localhost:8080/"
        },
        "id": "zQ6_2w75hyKQ",
        "outputId": "1a819a34-7f5d-4191-82f3-5bd9ec56e196"
      },
      "source": [
        "import pandas as pd\n",
        "\n",
        "import os\n",
        "os.chdir(r'/content/accounting_outliers/uploads/')\n",
        " \n",
        "try:\n",
        " \n",
        "  if len([name for name in os.listdir('.') if (os.path.isfile(name) and ((name.split('.')[1]).startswith('xls') or (name.split('.')[1]).startswith('csv')))])==0:\n",
        "    print(\"You have no files in the uplodad folder.\")\n",
        " \n",
        "  elif len([name for name in os.listdir('.') if (os.path.isfile(name) and ((name.split('.')[1]).startswith('xls') or (name.split('.')[1]).startswith('csv')))])>1:\n",
        "    print(\"You have too many files in the uplodad folder. Please remove %s files in order to keep 1.\" %len([name for name in os.listdir('.') if (os.path.isfile(name) and ((name.split('.')[1]).startswith('xls') or (name.split('.')[1]).startswith('csv'))-1)])) \n",
        " \n",
        "  elif len([name for name in os.listdir('.') if (os.path.isfile(name) and ((name.split('.')[1]).startswith('xls') or (name.split('.')[1]).startswith('csv')))])==1:\n",
        "    for file in os.listdir(os.getcwd()):\n",
        "      if os.path.isfile(file) and (file.split('.')[1]).startswith('xls'):\n",
        " \n",
        "        try:\n",
        "          if file.split('.')[1]=='csv':\n",
        "            df=pd.read_csv(file)\n",
        " \n",
        " \n",
        "          elif (file.split('.')[1]).startswith('xls'):\n",
        "            df=pd.read_excel(file)\n",
        " \n",
        "            print(\"Your dataset contains %s columns and %s rows for a total of %s elements.\" %(df.shape[1],df.shape[0],df.size))\n",
        " \n",
        "          else:\n",
        "            print(\"The file is not an excel or a csv\")\n",
        " \n",
        " \n",
        "        except Exception as e:\n",
        "          print(files,e)\n",
        " \n",
        "except Exception as e:\n",
        "  print(e)"
      ],
      "execution_count": 32,
      "outputs": [
        {
          "output_type": "stream",
          "text": [
            "Your dataset contains 3 columns and 3054 rows for a total of 9162 elements.\n"
          ],
          "name": "stdout"
        }
      ]
    },
    {
      "cell_type": "markdown",
      "metadata": {
        "id": "zXj1x7azrevJ"
      },
      "source": [
        "### Identify required features such as the Amount and GL Account.\r\n",
        "If the file you have uploaded is missing the 'Account' or 'Amount' columns or if the headers need to be changed, you will be prompted to make the necessary changes and upload a revised file.\r\n"
      ]
    },
    {
      "cell_type": "code",
      "metadata": {
        "colab": {
          "base_uri": "https://localhost:8080/"
        },
        "id": "88Yeep4JqXPX",
        "outputId": "3d7a0c69-53d7-47bf-d1aa-b08e96e4e421"
      },
      "source": [
        "#Detect column with Account Listing\n",
        " \n",
        "for n in range(len(df.columns)):\n",
        "  if ('acc' or 'account') in (df.columns[n]).lower():\n",
        "    df['Account']=df[df.columns[n]]\n",
        "    print(\"An 'Account' column was successfully identified\")\n",
        "    \n",
        " \n",
        "#Detect column with dollar values\n",
        "for n in range(len(df.columns)):\n",
        "  if ('am' or 'amount') in (df.columns[n]).lower():\n",
        "    df['Amount']=df[df.columns[n]]\n",
        "    print(\"An 'Amount' column was successfully identified\")\n",
        "    \n",
        " \n",
        "new_columns=['Account','Amount']\n",
        "for column in new_columns:\n",
        "  if column in df.columns:\n",
        "    pass\n",
        "  else:\n",
        "    print(\"Unable to detect your %s column. Please rename the appropriate column '%s' and re-upload the file\" %(column,column))"
      ],
      "execution_count": 33,
      "outputs": [
        {
          "output_type": "stream",
          "text": [
            "An 'Account' column was successfully identified\n",
            "An 'Amount' column was successfully identified\n"
          ],
          "name": "stdout"
        }
      ]
    },
    {
      "cell_type": "markdown",
      "metadata": {
        "id": "nqi4Tq6yr7wv"
      },
      "source": [
        "## Step 3: Plot Benford's Distribution"
      ]
    },
    {
      "cell_type": "markdown",
      "metadata": {
        "id": "qAyY47o7spUg"
      },
      "source": [
        "### What is Benford's Law and how to interpret it"
      ]
    },
    {
      "cell_type": "markdown",
      "metadata": {
        "id": "HfL6Eh6ZK9pV"
      },
      "source": [
        "Benford's Law maintains that the numeral 1 will be the leading digit in a genuine data set of numbers 30.1% of the time; the numeral 2 will be the leading digit 17.6% of the time; and each subsequent numeral, 3 through 9, will be the leading digit with decreasing frequency.\r\n",
        "\r\n",
        "This expected occurrence of leading digits follow Benford curve (see blue bars in histogram below). \r\n",
        "\r\n",
        "Based on the assumption that people who fabricate figures tend to distribute their digits fairly uniformly, a simple comparison of first-digit frequency distribution from the data with the expected distribution according to Benford's law ought to show up any anomalous results.\r\n",
        "\r\n"
      ]
    },
    {
      "cell_type": "code",
      "metadata": {
        "colab": {
          "base_uri": "https://localhost:8080/",
          "height": 297
        },
        "id": "6CX9or0D055V",
        "outputId": "31d052bb-9509-4f13-b8cb-28312776789d"
      },
      "source": [
        "#Detect time series to use for calculations convert Amount to absolute values\n",
        " \n",
        "try:\n",
        "  df['Abs_Val']=abs(df['Amount'])\n",
        " \n",
        "  #filter out all rows with values under 1\n",
        "  df=df.loc[df['Abs_Val']>1]\n",
        " \n",
        "  #convert First_Digit column to string and extract first digit\n",
        "  df['First_Digit']=(df['Abs_Val']).apply(str).str[0]\n",
        " \n",
        "  #create series with count for each first digit\n",
        "  benford_df=df['First_Digit'].value_counts()\n",
        "  benford_df['Your_Dist_Pct']=round((benford_df/benford_df.sum())*100,1)\n",
        " \n",
        " \n",
        "  #create a temporary dataframe to plot Benford Distribution\n",
        "  benford_list=(benford_df['Your_Dist_Pct']).to_list()\n",
        " \n",
        "  data={\n",
        "  'First_Digit':[1,2,3,4,5,6,7,8,9],\n",
        "  'Your_Distribution' : benford_list,\n",
        "  'Benford_Distribution': [30.1,17.6,12.5,9.7,7.9,6.7,5.8,5.1,4.6]\n",
        "  }\n",
        "  df_plot=pd.DataFrame(data=data,columns=['First_Digit','Your_Distribution','Benford_Distribution'])\n",
        "  #df_plot\n",
        " \n",
        "except Exception as e:\n",
        "  print(e)\n",
        " \n",
        " \n",
        "#https://matplotlib.org/3.1.1/gallery/lines_bars_and_markers/barchart.html\n",
        " \n",
        "import matplotlib.pyplot as plt\n",
        "import numpy as np\n",
        " \n",
        "labels = df_plot['First_Digit']\n",
        "\n",
        "Benford_Distribution = list(df_plot['Benford_Distribution'])\n",
        "Your_Distribution = list(df_plot['Your_Distribution'])\n",
        " \n",
        "x = np.arange(len(labels))  # the label locations\n",
        "width = 0.35  # the width of the bars\n",
        " \n",
        "fig, ax = plt.subplots()\n",
        " \n",
        "rects1 = ax.bar(x - width/2, Benford_Distribution, width, label='Benford_Distribution')\n",
        "rects2 = ax.bar(x + width/2, Your_Distribution, width, label='Your_Distribution')\n",
        " \n",
        "# Add some text for labels, title and custom x-axis tick labels, etc.\n",
        "ax.set_xlabel('First Digit')\n",
        "ax.set_ylabel('Distribution')\n",
        " \n",
        "ax.set_title(\"Your Data Distribution vs Benford's Distribution\")\n",
        "ax.set_xticks(x)\n",
        "ax.set_xticklabels(labels)\n",
        "ax.legend()\n",
        " \n",
        " \n",
        "def autolabel(rects):\n",
        "    \"\"\"Attach a text label above each bar in *rects*, displaying its height.\"\"\"\n",
        "    for rect in rects:\n",
        "        height = rect.get_height()\n",
        "        ax.annotate(''.format(height),\n",
        "                    xy=(rect.get_x() + rect.get_width() / 2, height),\n",
        "                    xytext=(0, 3),  # 3 points vertical offset\n",
        "                    textcoords=\"offset points\",\n",
        "                    ha='center', va='bottom')\n",
        " \n",
        " \n",
        "autolabel(rects1)\n",
        "autolabel(rects2)\n",
        " \n",
        "fig.tight_layout()\n",
        " \n",
        "plt.show()\n",
        "a=fig.savefig(r'/content/accounting_outliers/uploads/benford_dtr.png')"
      ],
      "execution_count": 34,
      "outputs": [
        {
          "output_type": "display_data",
          "data": {
            "image/png": "[encoded data removed]",
            "text/plain": [
              "<Figure size 432x288 with 1 Axes>"
            ]
          },
          "metadata": {
            "tags": [],
            "needs_background": "light"
          }
        }
      ]
    },
    {
      "cell_type": "markdown",
      "metadata": {
        "id": "gjWNPSwH7wJf"
      },
      "source": [
        "If your data (in orange) follows Benford's Distribution (in blue), your general ledger is likely free of fraudulent transactions. On the other hand, if your data distribution drastically diverges from Benford's distribution, your general ledger is likely to contain erroneous or fraudulent transactions that need to be investigated and might result in changes in internal control procedures."
      ]
    },
    {
      "cell_type": "markdown",
      "metadata": {
        "id": "voSxWmqaV9py"
      },
      "source": [
        "You can download he chart above by clicking on the folder icon as shown below.\r\n",
        "\r\n",
        "---\r\n",
        "![1.png](data:image/png;base64,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)"
      ]
    },
    {
      "cell_type": "markdown",
      "metadata": {
        "id": "X3vmWQs5vHvZ"
      },
      "source": [
        "##Step 4: Detect Outliers"
      ]
    },
    {
      "cell_type": "markdown",
      "metadata": {
        "id": "lMrqD7c-vKgk"
      },
      "source": [
        "#### BoxPlots\r\n",
        "\r\n",
        "Boxplots are a suitable tool for this purpose as they allow us to vizualize data distribution as well as the median and the quantile distribution in one single visual.\r\n",
        "\r\n"
      ]
    },
    {
      "cell_type": "markdown",
      "metadata": {
        "id": "KueqFqzTvekX"
      },
      "source": [
        "#### Plot Accounting Data Distribution"
      ]
    },
    {
      "cell_type": "code",
      "metadata": {
        "id": "tDM2JWyWWCly",
        "colab": {
          "base_uri": "https://localhost:8080/",
          "height": 1000,
          "referenced_widgets": [
            "d9b20decef9544d7979d7a2fc2751a7e",
            "3d7133cf927742e2813d36916e060a18",
            "afd1c5677901464689e76982f6c1478b",
            "0c5dbd32a9c94d34b7220430b8a4c52c",
            "48e65bf584144020a045821b77f1a16f",
            "e81e21afa3b149fea7fc681faaf234a2",
            "8160020bda6147dfa1a15ddb21dda22e"
          ]
        },
        "outputId": "134f0a43-cf97-4066-e3f8-ef7bd41df2e5"
      },
      "source": [
        "#Vizualize your data by account and immediately identify outliers\n",
        " \n",
        "import altair as alt\n",
        "import ipywidgets as widgets\n",
        " \n",
        "q3_sensitivity=0.75\n",
        "q1_sensitivity=0.25\n",
        " \n",
        " \n",
        "account_picker = widgets.SelectMultiple(\n",
        "    options=sorted(df.Account.unique()),\n",
        "    value=list(df.Account.unique()),\n",
        "    description='GL Account')\n",
        " \n",
        "@widgets.interact(account=account_picker)\n",
        "def render(account):\n",
        "  selected = df[df.Account.isin(list(account))]\n",
        "  print(\"==============\")\n",
        " \n",
        "  outlierq3=(selected[selected.columns].loc[selected['Amount']>(np.quantile(selected['Amount'],q3_sensitivity))])\n",
        "  outlierq1=(selected[selected.columns].loc[selected['Amount']<(np.quantile(selected['Amount'],q1_sensitivity))])\n",
        " \n",
        " \n",
        "  quant=[]\n",
        "  quant.append([abs(np.quantile(selected['Amount'],q3_sensitivity)),abs(np.quantile(selected['Amount'],q1_sensitivity))])\n",
        "\n",
        "  if (len(outlierq1) and len(outlierq3)) == 0:\n",
        "    print(\"No outliers were detected for this account\")\n",
        " \n",
        " \n",
        "  else:\n",
        " \n",
        "    print(\"Outliers detected for this account: %s\" %((outlierq3.shape[0])+outlierq1.shape[0]))    \n",
        " \n",
        "    print(\"For the account(s) selected,\")\n",
        "    print(\"Transactions smaller than %s and greater than %s, require special attention.\" %(\"{:,.2f}\".format(abs(min(quant[0]))),\"{:,.2f}\".format(abs(max(quant[0])))))\n",
        "    return alt.Chart(selected).mark_boxplot().encode(\n",
        "      y='Amount',).properties(width=300,height=500)"
      ],
      "execution_count": 63,
      "outputs": [
        {
          "output_type": "display_data",
          "data": {
            "application/vnd.jupyter.widget-view+json": {
              "model_id": "d9b20decef9544d7979d7a2fc2751a7e",
              "version_minor": 0,
              "version_major": 2
            },
            "text/plain": [
              "interactive(children=(SelectMultiple(description='GL Account', index=(0, 74, 70, 68, 69, 73, 72, 71, 48, 80, 7…"
            ]
          },
          "metadata": {
            "tags": []
          }
        },
        {
          "output_type": "display_data",
          "data": {
            "text/plain": [
              "alt.Chart(...)"
            ],
            "text/html": [
              "\n",
              "<div id=\"altair-viz-7199b45a1751427db17dcee057978d92\"></div>\n",
              "<script type=\"text/javascript\">\n",
              "  (function(spec, embedOpt){\n",
              "    let outputDiv = document.currentScript.previousElementSibling;\n",
              "    if (outputDiv.id !== \"altair-viz-7199b45a1751427db17dcee057978d92\") {\n",
              "      outputDiv = document.getElementById(\"altair-viz-7199b45a1751427db17dcee057978d92\");\n",
              "    }\n",
              "    const paths = {\n",
              "      \"vega\": \"https://cdn.jsdelivr.net/npm//vega@5?noext\",\n",
              "      \"vega-lib\": \"https://cdn.jsdelivr.net/npm//vega-lib?noext\",\n",
              "      \"vega-lite\": \"https://cdn.jsdelivr.net/npm//vega-lite@4.8.1?noext\",\n",
              "      \"vega-embed\": \"https://cdn.jsdelivr.net/npm//vega-embed@6?noext\",\n",
              "    };\n",
              "\n",
              "    function loadScript(lib) {\n",
              "      return new Promise(function(resolve, reject) {\n",
              "        var s = document.createElement('script');\n",
              "        s.src = paths[lib];\n",
              "        s.async = true;\n",
              "        s.onload = () => resolve(paths[lib]);\n",
              "        s.onerror = () => reject(`Error loading script: ${paths[lib]}`);\n",
              "        document.getElementsByTagName(\"head\")[0].appendChild(s);\n",
              "      });\n",
              "    }\n",
              "\n",
              "    function showError(err) {\n",
              "      outputDiv.innerHTML = `<div class=\"error\" style=\"color:red;\">${err}</div>`;\n",
              "      throw err;\n",
              "    }\n",
              "\n",
              "    function displayChart(vegaEmbed) {\n",
              "      vegaEmbed(outputDiv, spec, embedOpt)\n",
              "        .catch(err => showError(`Javascript Error: ${err.message}<br>This usually means there's a typo in your chart specification. See the javascript console for the full traceback.`));\n",
              "    }\n",
              "\n",
              "    if(typeof define === \"function\" && define.amd) {\n",
              "      requirejs.config({paths});\n",
              "      require([\"vega-embed\"], displayChart, err => showError(`Error loading script: ${err.message}`));\n",
              "    } else if (typeof vegaEmbed === \"function\") {\n",
              "      displayChart(vegaEmbed);\n",
              "    } else {\n",
              "      loadScript(\"vega\")\n",
              "        .then(() => loadScript(\"vega-lite\"))\n",
              "        .then(() => loadScript(\"vega-embed\"))\n",
              "        .catch(showError)\n",
              "        .then(() => displayChart(vegaEmbed));\n",
              "    }\n",
              "  })({\"config\": {\"view\": {\"continuousWidth\": 400, \"continuousHeight\": 300}}, \"data\": {\"name\": \"data-2618bbe3f70055524141dd0f0b754f40\"}, \"mark\": \"boxplot\", \"encoding\": {\"y\": {\"type\": \"quantitative\", \"field\": \"Amount\"}}, \"height\": 500, \"width\": 300, \"$schema\": \"https://vega.github.io/schema/vega-lite/v4.8.1.json\", \"datasets\": {\"data-2618bbe3f70055524141dd0f0b754f40\": [{\"lJEntId\": 163, \"lAcctId\": 13200000, \"dAmount\": 200000.0, \"Account\": 13200000, \"Amount\": 200000.0, \"Abs_Val\": 200000.0, \"First_Digit\": \"2\"}, {\"lJEntId\": 198, \"lAcctId\": 13200000, \"dAmount\": 19202.4, \"Account\": 13200000, \"Amount\": 19202.4, \"Abs_Val\": 19202.4, \"First_Digit\": \"1\"}, {\"lJEntId\": 636, \"lAcctId\": 13200000, \"dAmount\": 339.16, \"Account\": 13200000, \"Amount\": 339.16, \"Abs_Val\": 339.16, \"First_Digit\": \"3\"}, {\"lJEntId\": 637, \"lAcctId\": 13200000, \"dAmount\": -339.16, \"Account\": 13200000, \"Amount\": -339.16, \"Abs_Val\": 339.16, \"First_Digit\": \"3\"}, {\"lJEntId\": 638, \"lAcctId\": 13200000, \"dAmount\": 339.16, \"Account\": 13200000, \"Amount\": 339.16, \"Abs_Val\": 339.16, \"First_Digit\": \"3\"}, {\"lJEntId\": 638, \"lAcctId\": 13200000, \"dAmount\": 844.2, \"Account\": 13200000, \"Amount\": 844.2, \"Abs_Val\": 844.2, \"First_Digit\": \"8\"}, {\"lJEntId\": 639, \"lAcctId\": 13200000, \"dAmount\": -339.16, \"Account\": 13200000, \"Amount\": -339.16, \"Abs_Val\": 339.16, \"First_Digit\": \"3\"}, {\"lJEntId\": 639, \"lAcctId\": 13200000, \"dAmount\": -844.2, \"Account\": 13200000, \"Amount\": -844.2, \"Abs_Val\": 844.2, \"First_Digit\": \"8\"}, {\"lJEntId\": 640, \"lAcctId\": 13200000, \"dAmount\": 339.16, \"Account\": 13200000, \"Amount\": 339.16, \"Abs_Val\": 339.16, \"First_Digit\": \"3\"}, {\"lJEntId\": 640, \"lAcctId\": 13200000, \"dAmount\": 844.2, \"Account\": 13200000, \"Amount\": 844.2, \"Abs_Val\": 844.2, \"First_Digit\": \"8\"}, {\"lJEntId\": 640, \"lAcctId\": 13200000, \"dAmount\": 199.99, \"Account\": 13200000, \"Amount\": 199.99, \"Abs_Val\": 199.99, \"First_Digit\": \"1\"}]}}, {\"mode\": \"vega-lite\"});\n",
              "</script>"
            ]
          },
          "metadata": {
            "tags": []
          }
        },
        {
          "output_type": "display_data",
          "data": {
            "text/plain": [
              "alt.Chart(...)"
            ],
            "text/html": [
              "\n",
              "<div id=\"altair-viz-8b32d3835cbe4117b31a5dd58507f9c4\"></div>\n",
              "<script type=\"text/javascript\">\n",
              "  (function(spec, embedOpt){\n",
              "    let outputDiv = document.currentScript.previousElementSibling;\n",
              "    if (outputDiv.id !== \"altair-viz-8b32d3835cbe4117b31a5dd58507f9c4\") {\n",
              "      outputDiv = document.getElementById(\"altair-viz-8b32d3835cbe4117b31a5dd58507f9c4\");\n",
              "    }\n",
              "    const paths = {\n",
              "      \"vega\": \"https://cdn.jsdelivr.net/npm//vega@5?noext\",\n",
              "      \"vega-lib\": \"https://cdn.jsdelivr.net/npm//vega-lib?noext\",\n",
              "      \"vega-lite\": \"https://cdn.jsdelivr.net/npm//vega-lite@4.8.1?noext\",\n",
              "      \"vega-embed\": \"https://cdn.jsdelivr.net/npm//vega-embed@6?noext\",\n",
              "    };\n",
              "\n",
              "    function loadScript(lib) {\n",
              "      return new Promise(function(resolve, reject) {\n",
              "        var s = document.createElement('script');\n",
              "        s.src = paths[lib];\n",
              "        s.async = true;\n",
              "        s.onload = () => resolve(paths[lib]);\n",
              "        s.onerror = () => reject(`Error loading script: ${paths[lib]}`);\n",
              "        document.getElementsByTagName(\"head\")[0].appendChild(s);\n",
              "      });\n",
              "    }\n",
              "\n",
              "    function showError(err) {\n",
              "      outputDiv.innerHTML = `<div class=\"error\" style=\"color:red;\">${err}</div>`;\n",
              "      throw err;\n",
              "    }\n",
              "\n",
              "    function displayChart(vegaEmbed) {\n",
              "      vegaEmbed(outputDiv, spec, embedOpt)\n",
              "        .catch(err => showError(`Javascript Error: ${err.message}<br>This usually means there's a typo in your chart specification. See the javascript console for the full traceback.`));\n",
              "    }\n",
              "\n",
              "    if(typeof define === \"function\" && define.amd) {\n",
              "      requirejs.config({paths});\n",
              "      require([\"vega-embed\"], displayChart, err => showError(`Error loading script: ${err.message}`));\n",
              "    } else if (typeof vegaEmbed === \"function\") {\n",
              "      displayChart(vegaEmbed);\n",
              "    } else {\n",
              "      loadScript(\"vega\")\n",
              "        .then(() => loadScript(\"vega-lite\"))\n",
              "        .then(() => loadScript(\"vega-embed\"))\n",
              "        .catch(showError)\n",
              "        .then(() => displayChart(vegaEmbed));\n",
              "    }\n",
              "  })({\"config\": {\"view\": {\"continuousWidth\": 400, \"continuousHeight\": 300}}, \"data\": {\"name\": \"data-4f48223966adb94fbb771284c119426a\"}, \"mark\": \"boxplot\", \"encoding\": {\"y\": {\"type\": \"quantitative\", \"field\": \"Amount\"}}, \"height\": 500, \"width\": 300, \"$schema\": \"https://vega.github.io/schema/vega-lite/v4.8.1.json\", \"datasets\": {\"data-4f48223966adb94fbb771284c119426a\": [{\"lJEntId\": 174, \"lAcctId\": 13300000, \"dAmount\": 60000.0, \"Account\": 13300000, \"Amount\": 60000.0, \"Abs_Val\": 60000.0, \"First_Digit\": \"6\"}, {\"lJEntId\": 490, \"lAcctId\": 13300000, \"dAmount\": 10000.0, \"Account\": 13300000, \"Amount\": 10000.0, \"Abs_Val\": 10000.0, \"First_Digit\": \"1\"}, {\"lJEntId\": 491, \"lAcctId\": 13300000, \"dAmount\": -10000.0, \"Account\": 13300000, \"Amount\": -10000.0, \"Abs_Val\": 10000.0, \"First_Digit\": \"1\"}, {\"lJEntId\": 492, \"lAcctId\": 13300000, \"dAmount\": 10000.0, \"Account\": 13300000, \"Amount\": 10000.0, \"Abs_Val\": 10000.0, \"First_Digit\": \"1\"}]}}, {\"mode\": \"vega-lite\"});\n",
              "</script>"
            ]
          },
          "metadata": {
            "tags": []
          }
        }
      ]
    },
    {
      "cell_type": "markdown",
      "metadata": {
        "id": "XDpoGTiivlZL"
      },
      "source": [
        "#Conclusion"
      ]
    },
    {
      "cell_type": "markdown",
      "metadata": {
        "id": "21tSN2t9keia"
      },
      "source": [
        "By integrating the above code with flask or jupyter-dash, you can turn this project into a tool with a friendy user interface that can easily be distributed and used across platforms.\r\n",
        "\r\n",
        "I hope you find it useful as much as I have and I look forward to your feedback and suggestions for improvement."
      ]
    }
  ]
}